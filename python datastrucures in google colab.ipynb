{
  "nbformat": 4,
  "nbformat_minor": 0,
  "metadata": {
    "colab": {
      "name": "intro.ipynb",
      "provenance": [],
      "collapsed_sections": [],
      "authorship_tag": "ABX9TyPJvS50jswpZNPxtt17zImB",
      "include_colab_link": true
    },
    "kernelspec": {
      "name": "python3",
      "display_name": "Python 3"
    },
    "language_info": {
      "name": "python"
    }
  },
  "cells": [
    {
      "cell_type": "markdown",
      "metadata": {
        "id": "view-in-github",
        "colab_type": "text"
      },
      "source": [
        "<a href=\"https://colab.research.google.com/github/Biniyamseid/datastructures-colab/blob/main/python%20datastrucures%20in%20google%20colab.ipynb\" target=\"_parent\"><img src=\"https://colab.research.google.com/assets/colab-badge.svg\" alt=\"Open In Colab\"/></a>"
      ]
    },
    {
      "cell_type": "code",
      "execution_count": null,
      "metadata": {
        "colab": {
          "base_uri": "https://localhost:8080/"
        },
        "id": "7WtG4utW1ekB",
        "outputId": "72ad9936-651b-4812-e7c6-deb2fd0fa8a7"
      },
      "outputs": [
        {
          "output_type": "stream",
          "name": "stdout",
          "text": [
            "hello world\n",
            "this\n"
          ]
        }
      ],
      "source": [
        "print(\"hello world\")\n",
        "print(\"this\")"
      ]
    },
    {
      "cell_type": "code",
      "source": [
        "sum = 300\n",
        "counter = 0\n",
        "try:\n",
        "  print(300/0)\n",
        "except:\n",
        "  print (\"division error\")"
      ],
      "metadata": {
        "id": "DxQkKJn95eZo",
        "outputId": "0d1e9137-a3e9-4ae9-cb03-1560687c8f26",
        "colab": {
          "base_uri": "https://localhost:8080/"
        }
      },
      "execution_count": 5,
      "outputs": [
        {
          "output_type": "stream",
          "name": "stdout",
          "text": [
            "division error\n"
          ]
        }
      ]
    },
    {
      "cell_type": "code",
      "source": [],
      "metadata": {
        "id": "dVZ7YwnF5txL"
      },
      "execution_count": null,
      "outputs": []
    }
  ]
}