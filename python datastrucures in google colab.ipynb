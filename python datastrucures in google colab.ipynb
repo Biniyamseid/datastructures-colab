{
  "nbformat": 4,
  "nbformat_minor": 0,
  "metadata": {
    "colab": {
      "name": "intro.ipynb",
      "provenance": [],
      "collapsed_sections": [],
      "authorship_tag": "ABX9TyOOFgIwa/QOECWWnoekJkjL",
      "include_colab_link": true
    },
    "kernelspec": {
      "name": "python3",
      "display_name": "Python 3"
    },
    "language_info": {
      "name": "python"
    }
  },
  "cells": [
    {
      "cell_type": "markdown",
      "metadata": {
        "id": "view-in-github",
        "colab_type": "text"
      },
      "source": [
        "<a href=\"https://colab.research.google.com/github/Biniyamseid/datastructures-colab/blob/main/python%20datastrucures%20in%20google%20colab.ipynb\" target=\"_parent\"><img src=\"https://colab.research.google.com/assets/colab-badge.svg\" alt=\"Open In Colab\"/></a>"
      ]
    },
    {
      "cell_type": "code",
      "execution_count": null,
      "metadata": {
        "colab": {
          "base_uri": "https://localhost:8080/"
        },
        "id": "7WtG4utW1ekB",
        "outputId": "72ad9936-651b-4812-e7c6-deb2fd0fa8a7"
      },
      "outputs": [
        {
          "output_type": "stream",
          "name": "stdout",
          "text": [
            "hello world\n",
            "this\n"
          ]
        }
      ],
      "source": [
        "print(\"hello world\")\n",
        "print(\"this\")"
      ]
    },
    {
      "cell_type": "code",
      "source": [
        "sum = 300\n",
        "counter = 0\n",
        "try:\n",
        "  print(300/0)\n",
        "except:\n",
        "  print (\"division error\")"
      ],
      "metadata": {
        "colab": {
          "base_uri": "https://localhost:8080/"
        },
        "id": "DxQkKJn95eZo",
        "outputId": "0d1e9137-a3e9-4ae9-cb03-1560687c8f26"
      },
      "execution_count": 5,
      "outputs": [
        {
          "output_type": "stream",
          "name": "stdout",
          "text": [
            "division error\n"
          ]
        }
      ]
    },
    {
      "cell_type": "code",
      "source": [
        "stocks = ['playway', 'boombit', 'cd projekt']\n",
        "a = lambda x:len(x)\n",
        "stocks = list(map(a,stocks))\n",
        "print(stocks)"
      ],
      "metadata": {
        "colab": {
          "base_uri": "https://localhost:8080/"
        },
        "id": "dVZ7YwnF5txL",
        "outputId": "fc667e57-f12d-46ef-e1c0-e8cade25087a"
      },
      "execution_count": 6,
      "outputs": [
        {
          "output_type": "stream",
          "name": "stdout",
          "text": [
            "[7, 7, 10]\n"
          ]
        }
      ]
    },
    {
      "cell_type": "code",
      "source": [
        "stocks = [(1, 3), (4, 1), (4, 3), (0, 8)]\n",
        "stocks.sort(key=lambda x:x[1])\n",
        "print(stocks)\n",
        "\n"
      ],
      "metadata": {
        "id": "HFpmMD4779sS",
        "outputId": "95540ac3-1954-481e-d894-701a6769e871",
        "colab": {
          "base_uri": "https://localhost:8080/"
        }
      },
      "execution_count": 7,
      "outputs": [
        {
          "output_type": "stream",
          "name": "stdout",
          "text": [
            "[(4, 1), (1, 3), (4, 3), (0, 8)]\n"
          ]
        }
      ]
    },
    {
      "cell_type": "code",
      "source": [
        "func_ = lambda x,y:x+y+2\n",
        "print(func_(1,2))"
      ],
      "metadata": {
        "id": "czR_bGVg8T4W",
        "outputId": "866f59d5-5878-40e0-f439-1b772beeb778",
        "colab": {
          "base_uri": "https://localhost:8080/"
        }
      },
      "execution_count": 8,
      "outputs": [
        {
          "output_type": "stream",
          "name": "stdout",
          "text": [
            "5\n"
          ]
        }
      ]
    }
  ]
}